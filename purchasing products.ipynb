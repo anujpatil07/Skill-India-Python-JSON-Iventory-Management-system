{
 "cells": [
  {
   "cell_type": "code",
   "execution_count": 2,
   "id": "16311423",
   "metadata": {},
   "outputs": [],
   "source": [
    "import json\n",
    "\n",
    "fd = open(\"D:/record.json\",'r')\n",
    "r = fd.read()\n",
    "fd.close()\n",
    "\n",
    "records = json.loads(r)"
   ]
  },
  {
   "cell_type": "code",
   "execution_count": 3,
   "id": "dab0d620",
   "metadata": {},
   "outputs": [
    {
     "data": {
      "text/plain": [
       "{'1001': {'name': 'Choco Cake', 'qn': 34, 'pr': 100},\n",
       " '1002': {'name': 'Milk Cake', 'pr': 800, 'qn': 100},\n",
       " '1003': {'name': 'Drink', 'pr': 85, 'qn': 100},\n",
       " '1004': {'name': 'Candy', 'pr': 5, 'qn': 1000},\n",
       " '1005': {'name': 'Pen', 'pr': 20, 'qn': 100},\n",
       " '1006': {'name': 'Phone', 'pr': 50000, 'qn': 10},\n",
       " '1007': {'name': 'mic', 'pr': 1500, 'qn': 50},\n",
       " '1008': {'name': 'Case', 'pr': 599, 'qn': 5},\n",
       " '1009': {'name': 'Keyboard', 'pr': 1999, 'qn': 10},\n",
       " '1010': {'name': 'Rubber', 'pr': 5, 'qn': 200},\n",
       " '1011': {'name': 'headphones', 'pr': 999, 'qn': 50},\n",
       " '1012': {'name': 'keychain', 'pr': 10, 'qn': 50},\n",
       " '1013': {'name': 'comb', 'pr': 40, 'qn': 100},\n",
       " '1014': {'name': 'sanitizer', 'pr': 50, 'qn': 1000},\n",
       " '1015': {'name': 'pouch', 'pr': 200, 'qn': 160},\n",
       " '1016': {'name': 'pad', 'pr': 50, 'qn': 50},\n",
       " '1017': {'name': 'beard oil', 'pr': 300, 'qn': 50},\n",
       " '1018': {'name': 'laptop', 'pr': 20000, 'qn': 50},\n",
       " '1019': {'name': 'flip-flops', 'pr': 300, 'qn': 399},\n",
       " '1020': {'name': 'sandals', 'pr': 600, 'qn': 46},\n",
       " '1021': {'name': 'sport shoes', 'pr': 1000, 'qn': 50},\n",
       " '1022': {'name': 'usb cable', 'pr': 500, 'qn': 100},\n",
       " '1023': {'name': 'cycle', 'pr': 10000, 'qn': 30},\n",
       " '1024': {'name': 'Tyres', 'pr': 4000, 'qn': 100},\n",
       " '1025': {'name': 'nailpolish', 'pr': 200, 'qn': 1000},\n",
       " '1026': {'name': 'aloo bhujia sev', 'pr': 100, 'qn': 200},\n",
       " '1027': {'name': 'shampoo', 'pr': 300, 'qn': 50},\n",
       " '1028': {'name': 'conditioner', 'pr': 500, 'qn': 30},\n",
       " '1029': {'name': 'almond oil', 'pr': 400, 'qn': 19},\n",
       " '1030': {'name': 'candle', 'pr': 30, 'qn': 100}}"
      ]
     },
     "execution_count": 3,
     "metadata": {},
     "output_type": "execute_result"
    }
   ],
   "source": [
    "records"
   ]
  },
  {
   "cell_type": "code",
   "execution_count": 12,
   "id": "89b04fa9",
   "metadata": {},
   "outputs": [
    {
     "name": "stdout",
     "output_type": "stream",
     "text": [
      "Enter the product_Id: 1016\n",
      "Enter the quantity: 2\n",
      "Product:  pad\n",
      "Price:  50\n",
      "Billing Amount:  100\n"
     ]
    }
   ],
   "source": [
    "ui_prod  = str(input(\"Enter the product_Id: \"))\n",
    "ui_quant = int(input(\"Enter the quantity: \"))\n",
    "\n",
    "\n",
    "print(\"Product: \", records[ui_prod]['name'])\n",
    "print(\"Price: \", records[ui_prod]['pr'])\n",
    "print(\"Billing Amount: \", records[ui_prod]['pr'] * ui_quant)\n",
    "\n",
    "records[ui_prod]['qn'] = records[ui_prod]['qn'] - ui_quant"
   ]
  },
  {
   "cell_type": "code",
   "execution_count": 13,
   "id": "518765cd",
   "metadata": {},
   "outputs": [],
   "source": [
    "js = json.dumps(records)\n",
    "\n",
    "fd = open(\"D:/record.json\",'w')\n",
    "fd.write(js)\n",
    "fd.close()"
   ]
  },
  {
   "cell_type": "code",
   "execution_count": 13,
   "id": "27a2514d",
   "metadata": {},
   "outputs": [
    {
     "data": {
      "text/plain": [
       "{'prod': '1016', 'qn': 2, 'amount': 100}"
      ]
     },
     "execution_count": 13,
     "metadata": {},
     "output_type": "execute_result"
    }
   ],
   "source": [
    "{'prod' : ui_prod, 'qn' : ui_quant, 'amount': records[ui_prod]['pr'] * ui_quant}\n"
   ]
  },
  {
   "cell_type": "code",
   "execution_count": 14,
   "id": "5d08b85c",
   "metadata": {},
   "outputs": [],
   "source": [
    "sales = {2 : {'prod' : ui_prod, 'name' : records[ui_prod]['name'], 'qn' : ui_quant, 'amount': records[ui_prod]['pr'] * ui_quant}}\n",
    "         "
   ]
  },
  {
   "cell_type": "code",
   "execution_count": 15,
   "id": "bd08da30",
   "metadata": {},
   "outputs": [
    {
     "data": {
      "text/plain": [
       "{2: {'prod': '1016', 'name': 'pad', 'qn': 2, 'amount': 100}}"
      ]
     },
     "execution_count": 15,
     "metadata": {},
     "output_type": "execute_result"
    }
   ],
   "source": [
    "sales"
   ]
  },
  {
   "cell_type": "code",
   "execution_count": 16,
   "id": "4025cba9",
   "metadata": {},
   "outputs": [],
   "source": [
    "sale = json.dumps(sales)"
   ]
  },
  {
   "cell_type": "code",
   "execution_count": 17,
   "id": "96891665",
   "metadata": {},
   "outputs": [
    {
     "data": {
      "text/plain": [
       "{2: {'prod': '1016', 'qn': 2, 'amount': 100}}"
      ]
     },
     "execution_count": 17,
     "metadata": {},
     "output_type": "execute_result"
    }
   ],
   "source": [
    "{(len(sales) + 1) : {'prod' : ui_prod, 'qn' : ui_quant, 'amount': records[ui_prod]['pr'] * ui_quant}}"
   ]
  },
  {
   "cell_type": "code",
   "execution_count": 18,
   "id": "71831e6f",
   "metadata": {},
   "outputs": [
    {
     "data": {
      "text/plain": [
       "{2: {'prod': '1016', 'name': 'pad', 'qn': 2, 'amount': 100}}"
      ]
     },
     "execution_count": 18,
     "metadata": {},
     "output_type": "execute_result"
    }
   ],
   "source": [
    "sales\n"
   ]
  },
  {
   "cell_type": "code",
   "execution_count": null,
   "id": "626e1693",
   "metadata": {},
   "outputs": [],
   "source": []
  }
 ],
 "metadata": {
  "kernelspec": {
   "display_name": "Python 3",
   "language": "python",
   "name": "python3"
  },
  "language_info": {
   "codemirror_mode": {
    "name": "ipython",
    "version": 3
   },
   "file_extension": ".py",
   "mimetype": "text/x-python",
   "name": "python",
   "nbconvert_exporter": "python",
   "pygments_lexer": "ipython3",
   "version": "3.8.8"
  }
 },
 "nbformat": 4,
 "nbformat_minor": 5
}
